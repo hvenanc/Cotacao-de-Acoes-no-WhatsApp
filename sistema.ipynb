{
 "cells": [
  {
   "attachments": {},
   "cell_type": "markdown",
   "metadata": {},
   "source": [
    "#Google em 1 MINUTO"
   ]
  },
  {
   "attachments": {},
   "cell_type": "markdown",
   "metadata": {},
   "source": [
    "Automação do processo de envio de cotações de ações via WhatsApp!"
   ]
  },
  {
   "cell_type": "code",
   "execution_count": 3,
   "metadata": {},
   "outputs": [],
   "source": [
    "#pip install yfinance\n",
    "import yfinance"
   ]
  },
  {
   "attachments": {},
   "cell_type": "markdown",
   "metadata": {},
   "source": [
    "Escolhendo a empresa"
   ]
  },
  {
   "cell_type": "code",
   "execution_count": 1,
   "metadata": {},
   "outputs": [],
   "source": [
    "ticker = 'PETR4.SA'"
   ]
  },
  {
   "attachments": {},
   "cell_type": "markdown",
   "metadata": {},
   "source": [
    "Exibindo os dados"
   ]
  },
  {
   "cell_type": "code",
   "execution_count": null,
   "metadata": {},
   "outputs": [],
   "source": [
    "dados = yfinance.Ticker(ticker)\n",
    "df = dados.history()\n",
    "df"
   ]
  },
  {
   "attachments": {},
   "cell_type": "markdown",
   "metadata": {},
   "source": [
    "Pegando apenas a coluna de fechamento da ação"
   ]
  },
  {
   "cell_type": "code",
   "execution_count": 6,
   "metadata": {},
   "outputs": [
    {
     "data": {
      "text/plain": [
       "Date\n",
       "2023-02-22 00:00:00-03:00    25.760000\n",
       "2023-02-23 00:00:00-03:00    26.549999\n",
       "2023-02-24 00:00:00-03:00    25.900000\n",
       "2023-02-27 00:00:00-03:00    26.150000\n",
       "2023-02-28 00:00:00-03:00    25.240000\n",
       "2023-03-01 00:00:00-03:00    25.299999\n",
       "2023-03-02 00:00:00-03:00    24.639999\n",
       "2023-03-03 00:00:00-03:00    25.700001\n",
       "2023-03-06 00:00:00-03:00    25.959999\n",
       "2023-03-07 00:00:00-03:00    25.100000\n",
       "2023-03-08 00:00:00-03:00    25.420000\n",
       "2023-03-09 00:00:00-03:00    25.309999\n",
       "2023-03-10 00:00:00-03:00    24.980000\n",
       "2023-03-13 00:00:00-03:00    24.190001\n",
       "2023-03-14 00:00:00-03:00    23.760000\n",
       "2023-03-15 00:00:00-03:00    23.340000\n",
       "2023-03-16 00:00:00-03:00    23.260000\n",
       "2023-03-17 00:00:00-03:00    23.510000\n",
       "2023-03-20 00:00:00-03:00    22.930000\n",
       "Name: Close, dtype: float64"
      ]
     },
     "execution_count": 6,
     "metadata": {},
     "output_type": "execute_result"
    }
   ],
   "source": [
    "fechamento = df.Close\n",
    "fechamento"
   ]
  },
  {
   "attachments": {},
   "cell_type": "markdown",
   "metadata": {},
   "source": [
    "Salvando o valor do último fechamento da ação"
   ]
  },
  {
   "cell_type": "code",
   "execution_count": 7,
   "metadata": {},
   "outputs": [
    {
     "data": {
      "text/plain": [
       "22.93"
      ]
     },
     "execution_count": 7,
     "metadata": {},
     "output_type": "execute_result"
    }
   ],
   "source": [
    "ultimo_fechamento = fechamento[-1]\n",
    "ultimo_fechamento = round(ultimo_fechamento,2)\n",
    "ultimo_fechamento"
   ]
  },
  {
   "attachments": {},
   "cell_type": "markdown",
   "metadata": {},
   "source": [
    "Enviando a mensagem no WhatsApp"
   ]
  },
  {
   "cell_type": "code",
   "execution_count": 8,
   "metadata": {},
   "outputs": [],
   "source": [
    "import pywhatkit as pwt\n",
    "#pip install pywhatkit"
   ]
  },
  {
   "cell_type": "code",
   "execution_count": 9,
   "metadata": {},
   "outputs": [],
   "source": [
    "phone_number = '+5581996593910'\n",
    "\n",
    "texto = f\"\"\"Prezado Henrique, segue o valor do último fechamento da empresa {ticker} :\\nValor do Fechamento: R$ {ultimo_fechamento}\"\"\"\n",
    "\n",
    "pwt.sendwhatmsg_instantly(phone_number,texto)"
   ]
  }
 ],
 "metadata": {
  "kernelspec": {
   "display_name": "Python 3",
   "language": "python",
   "name": "python3"
  },
  "language_info": {
   "codemirror_mode": {
    "name": "ipython",
    "version": 3
   },
   "file_extension": ".py",
   "mimetype": "text/x-python",
   "name": "python",
   "nbconvert_exporter": "python",
   "pygments_lexer": "ipython3",
   "version": "3.8.10"
  },
  "orig_nbformat": 4
 },
 "nbformat": 4,
 "nbformat_minor": 2
}
